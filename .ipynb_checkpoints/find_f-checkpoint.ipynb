{
 "cells": [
  {
   "cell_type": "code",
   "execution_count": 12,
   "id": "bf6ac320",
   "metadata": {},
   "outputs": [],
   "source": [
    "import  pandas as pd\n",
    "import numpy as np\n",
    "import os\n",
    "\n",
    "def get_data_file_path(filename):\n",
    "    # Get the directory where this script is located\n",
    "    script_dir = os.path.dirname(os.path.realpath(filename))\n",
    "\n",
    "    # Construct the path to the data file relative to the script location\n",
    "    data_file_path = os.path.join(script_dir, 'data', filename)\n",
    "\n",
    "    return data_file_path\n",
    "\n",
    "dfgrid = pd.read_csv(get_data_file_path('value_table.csv'))\n",
    "\n",
    "def calc(x, y):\n",
    "    # Find the index of the closest x and y pair\n",
    "    index = ((dfgrid['x'] - x)**2 + (dfgrid['y'] - y)**2).idxmin()\n",
    "    \n",
    "    # Retrieve values for the closest pair\n",
    "    result = dfgrid.loc[index, ['f_mean', 'f_median', 'f_std', 'f_var']]\n",
    "    \n",
    "    if result.isna().all():\n",
    "        print('Error: This point falls outside our model (sorry).')\n",
    "    \n",
    "    return result"
   ]
  },
  {
   "cell_type": "code",
   "execution_count": null,
   "id": "88965a99",
   "metadata": {},
   "outputs": [],
   "source": []
  }
 ],
 "metadata": {
  "kernelspec": {
   "display_name": "Python 3",
   "language": "python",
   "name": "python3"
  },
  "language_info": {
   "codemirror_mode": {
    "name": "ipython",
    "version": 3
   },
   "file_extension": ".py",
   "mimetype": "text/x-python",
   "name": "python",
   "nbconvert_exporter": "python",
   "pygments_lexer": "ipython3",
   "version": "3.7.3"
  }
 },
 "nbformat": 4,
 "nbformat_minor": 5
}
