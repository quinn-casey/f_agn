{
 "cells": [
  {
   "cell_type": "code",
   "execution_count": 8,
   "id": "2f03837e",
   "metadata": {},
   "outputs": [],
   "source": [
    "import  pandas as pd\n",
    "import numpy as np\n",
    "\n",
    "dfgrid = pd.read_csv('/Users/quinncasey/pyme/f_agn/data/value_table.csv')\n",
    "\n",
    "def find_f(x, y):\n",
    "    # Find the index of the closest x and y pair\n",
    "    index = ((dfgrid['x'] - x)**2 + (dfgrid['y'] - y)**2).idxmin()\n",
    "    \n",
    "    # Retrieve values for the closest pair\n",
    "    result = dfgrid.loc[index, ['f_mean', 'f_median', 'f_std', 'f_var']]\n",
    "    \n",
    "    if result.isna().all():\n",
    "        print('Error: This point falls outside our model (sorry).')\n",
    "    \n",
    "    return result"
   ]
  },
  {
   "cell_type": "code",
   "execution_count": null,
   "id": "78fd7819",
   "metadata": {},
   "outputs": [],
   "source": []
  }
 ],
 "metadata": {
  "kernelspec": {
   "display_name": "Python 3",
   "language": "python",
   "name": "python3"
  },
  "language_info": {
   "codemirror_mode": {
    "name": "ipython",
    "version": 3
   },
   "file_extension": ".py",
   "mimetype": "text/x-python",
   "name": "python",
   "nbconvert_exporter": "python",
   "pygments_lexer": "ipython3",
   "version": "3.7.3"
  }
 },
 "nbformat": 4,
 "nbformat_minor": 5
}
